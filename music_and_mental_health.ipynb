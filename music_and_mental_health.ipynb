{
 "cells": [
  {
   "cell_type": "code",
   "execution_count": 50,
   "metadata": {},
   "outputs": [],
   "source": [
    "# Import the required libraries and dependencies\n",
    "import pandas as pd\n",
    "import sklearn.datasets as dta\n",
    "import scipy.stats as st\n",
    "import matplotlib.pyplot as plt\n",
    "\n"
   ]
  },
  {
   "cell_type": "code",
   "execution_count": 51,
   "metadata": {},
   "outputs": [
    {
     "data": {
      "text/html": [
       "<div>\n",
       "<style scoped>\n",
       "    .dataframe tbody tr th:only-of-type {\n",
       "        vertical-align: middle;\n",
       "    }\n",
       "\n",
       "    .dataframe tbody tr th {\n",
       "        vertical-align: top;\n",
       "    }\n",
       "\n",
       "    .dataframe thead th {\n",
       "        text-align: right;\n",
       "    }\n",
       "</style>\n",
       "<table border=\"1\" class=\"dataframe\">\n",
       "  <thead>\n",
       "    <tr style=\"text-align: right;\">\n",
       "      <th></th>\n",
       "      <th>Age</th>\n",
       "      <th>Primary streaming service</th>\n",
       "      <th>Hours per day</th>\n",
       "      <th>While working</th>\n",
       "      <th>Instrumentalist</th>\n",
       "      <th>Composer</th>\n",
       "      <th>Fav genre</th>\n",
       "      <th>Exploratory</th>\n",
       "      <th>Foreign languages</th>\n",
       "      <th>BPM</th>\n",
       "      <th>...</th>\n",
       "      <th>Frequency [R&amp;B]</th>\n",
       "      <th>Frequency [Rap]</th>\n",
       "      <th>Frequency [Rock]</th>\n",
       "      <th>Frequency [Video game music]</th>\n",
       "      <th>Anxiety</th>\n",
       "      <th>Depression</th>\n",
       "      <th>Insomnia</th>\n",
       "      <th>OCD</th>\n",
       "      <th>Music effects</th>\n",
       "      <th>Permissions</th>\n",
       "    </tr>\n",
       "  </thead>\n",
       "  <tbody>\n",
       "    <tr>\n",
       "      <th>0</th>\n",
       "      <td>18.0</td>\n",
       "      <td>Spotify</td>\n",
       "      <td>3.0</td>\n",
       "      <td>Yes</td>\n",
       "      <td>Yes</td>\n",
       "      <td>Yes</td>\n",
       "      <td>Latin</td>\n",
       "      <td>Yes</td>\n",
       "      <td>Yes</td>\n",
       "      <td>156.0</td>\n",
       "      <td>...</td>\n",
       "      <td>Sometimes</td>\n",
       "      <td>Very frequently</td>\n",
       "      <td>Never</td>\n",
       "      <td>Sometimes</td>\n",
       "      <td>3.0</td>\n",
       "      <td>0.0</td>\n",
       "      <td>1.0</td>\n",
       "      <td>0.0</td>\n",
       "      <td>NaN</td>\n",
       "      <td>I understand.</td>\n",
       "    </tr>\n",
       "    <tr>\n",
       "      <th>1</th>\n",
       "      <td>63.0</td>\n",
       "      <td>Pandora</td>\n",
       "      <td>1.5</td>\n",
       "      <td>Yes</td>\n",
       "      <td>No</td>\n",
       "      <td>No</td>\n",
       "      <td>Rock</td>\n",
       "      <td>Yes</td>\n",
       "      <td>No</td>\n",
       "      <td>119.0</td>\n",
       "      <td>...</td>\n",
       "      <td>Sometimes</td>\n",
       "      <td>Rarely</td>\n",
       "      <td>Very frequently</td>\n",
       "      <td>Rarely</td>\n",
       "      <td>7.0</td>\n",
       "      <td>2.0</td>\n",
       "      <td>2.0</td>\n",
       "      <td>1.0</td>\n",
       "      <td>NaN</td>\n",
       "      <td>I understand.</td>\n",
       "    </tr>\n",
       "    <tr>\n",
       "      <th>2</th>\n",
       "      <td>18.0</td>\n",
       "      <td>Spotify</td>\n",
       "      <td>4.0</td>\n",
       "      <td>No</td>\n",
       "      <td>No</td>\n",
       "      <td>No</td>\n",
       "      <td>Video game music</td>\n",
       "      <td>No</td>\n",
       "      <td>Yes</td>\n",
       "      <td>132.0</td>\n",
       "      <td>...</td>\n",
       "      <td>Never</td>\n",
       "      <td>Rarely</td>\n",
       "      <td>Rarely</td>\n",
       "      <td>Very frequently</td>\n",
       "      <td>7.0</td>\n",
       "      <td>7.0</td>\n",
       "      <td>10.0</td>\n",
       "      <td>2.0</td>\n",
       "      <td>No effect</td>\n",
       "      <td>I understand.</td>\n",
       "    </tr>\n",
       "    <tr>\n",
       "      <th>3</th>\n",
       "      <td>61.0</td>\n",
       "      <td>YouTube Music</td>\n",
       "      <td>2.5</td>\n",
       "      <td>Yes</td>\n",
       "      <td>No</td>\n",
       "      <td>Yes</td>\n",
       "      <td>Jazz</td>\n",
       "      <td>Yes</td>\n",
       "      <td>Yes</td>\n",
       "      <td>84.0</td>\n",
       "      <td>...</td>\n",
       "      <td>Sometimes</td>\n",
       "      <td>Never</td>\n",
       "      <td>Never</td>\n",
       "      <td>Never</td>\n",
       "      <td>9.0</td>\n",
       "      <td>7.0</td>\n",
       "      <td>3.0</td>\n",
       "      <td>3.0</td>\n",
       "      <td>Improve</td>\n",
       "      <td>I understand.</td>\n",
       "    </tr>\n",
       "    <tr>\n",
       "      <th>4</th>\n",
       "      <td>18.0</td>\n",
       "      <td>Spotify</td>\n",
       "      <td>4.0</td>\n",
       "      <td>Yes</td>\n",
       "      <td>No</td>\n",
       "      <td>No</td>\n",
       "      <td>R&amp;B</td>\n",
       "      <td>Yes</td>\n",
       "      <td>No</td>\n",
       "      <td>107.0</td>\n",
       "      <td>...</td>\n",
       "      <td>Very frequently</td>\n",
       "      <td>Very frequently</td>\n",
       "      <td>Never</td>\n",
       "      <td>Rarely</td>\n",
       "      <td>7.0</td>\n",
       "      <td>2.0</td>\n",
       "      <td>5.0</td>\n",
       "      <td>9.0</td>\n",
       "      <td>Improve</td>\n",
       "      <td>I understand.</td>\n",
       "    </tr>\n",
       "  </tbody>\n",
       "</table>\n",
       "<p>5 rows × 32 columns</p>\n",
       "</div>"
      ],
      "text/plain": [
       "    Age Primary streaming service  Hours per day While working  \\\n",
       "0  18.0                   Spotify            3.0           Yes   \n",
       "1  63.0                   Pandora            1.5           Yes   \n",
       "2  18.0                   Spotify            4.0            No   \n",
       "3  61.0             YouTube Music            2.5           Yes   \n",
       "4  18.0                   Spotify            4.0           Yes   \n",
       "\n",
       "  Instrumentalist Composer         Fav genre Exploratory Foreign languages  \\\n",
       "0             Yes      Yes             Latin         Yes               Yes   \n",
       "1              No       No              Rock         Yes                No   \n",
       "2              No       No  Video game music          No               Yes   \n",
       "3              No      Yes              Jazz         Yes               Yes   \n",
       "4              No       No               R&B         Yes                No   \n",
       "\n",
       "     BPM  ...  Frequency [R&B]  Frequency [Rap] Frequency [Rock]  \\\n",
       "0  156.0  ...        Sometimes  Very frequently            Never   \n",
       "1  119.0  ...        Sometimes           Rarely  Very frequently   \n",
       "2  132.0  ...            Never           Rarely           Rarely   \n",
       "3   84.0  ...        Sometimes            Never            Never   \n",
       "4  107.0  ...  Very frequently  Very frequently            Never   \n",
       "\n",
       "  Frequency [Video game music] Anxiety Depression Insomnia  OCD Music effects  \\\n",
       "0                    Sometimes     3.0        0.0      1.0  0.0           NaN   \n",
       "1                       Rarely     7.0        2.0      2.0  1.0           NaN   \n",
       "2              Very frequently     7.0        7.0     10.0  2.0     No effect   \n",
       "3                        Never     9.0        7.0      3.0  3.0       Improve   \n",
       "4                       Rarely     7.0        2.0      5.0  9.0       Improve   \n",
       "\n",
       "     Permissions  \n",
       "0  I understand.  \n",
       "1  I understand.  \n",
       "2  I understand.  \n",
       "3  I understand.  \n",
       "4  I understand.  \n",
       "\n",
       "[5 rows x 32 columns]"
      ]
     },
     "execution_count": 51,
     "metadata": {},
     "output_type": "execute_result"
    }
   ],
   "source": [
    "# Read the data from the csv into a Pandas DataFrame with the first column as row index\n",
    "music_mental_health_df = pd.read_csv(\"Resources/mxmh_survey_results.csv\")\n",
    "\n",
    "#Drop timestamp column\n",
    "music_mental_health_df = music_mental_health_df.drop(columns=[\"Timestamp\"])\n",
    "\n",
    "# Review the DataFrame\n",
    "music_mental_health_df.head()"
   ]
  },
  {
   "cell_type": "code",
   "execution_count": 52,
   "metadata": {},
   "outputs": [
    {
     "data": {
      "text/plain": [
       "Age                             float64\n",
       "Primary streaming service        object\n",
       "Hours per day                   float64\n",
       "While working                    object\n",
       "Instrumentalist                  object\n",
       "Composer                         object\n",
       "Fav genre                        object\n",
       "Exploratory                      object\n",
       "Foreign languages                object\n",
       "BPM                             float64\n",
       "Frequency [Classical]            object\n",
       "Frequency [Country]              object\n",
       "Frequency [EDM]                  object\n",
       "Frequency [Folk]                 object\n",
       "Frequency [Gospel]               object\n",
       "Frequency [Hip hop]              object\n",
       "Frequency [Jazz]                 object\n",
       "Frequency [K pop]                object\n",
       "Frequency [Latin]                object\n",
       "Frequency [Lofi]                 object\n",
       "Frequency [Metal]                object\n",
       "Frequency [Pop]                  object\n",
       "Frequency [R&B]                  object\n",
       "Frequency [Rap]                  object\n",
       "Frequency [Rock]                 object\n",
       "Frequency [Video game music]     object\n",
       "Anxiety                         float64\n",
       "Depression                      float64\n",
       "Insomnia                        float64\n",
       "OCD                             float64\n",
       "Music effects                    object\n",
       "Permissions                      object\n",
       "dtype: object"
      ]
     },
     "execution_count": 52,
     "metadata": {},
     "output_type": "execute_result"
    }
   ],
   "source": [
    "#read data types\n",
    "music_mental_health_df.dtypes"
   ]
  },
  {
   "cell_type": "code",
   "execution_count": 55,
   "metadata": {},
   "outputs": [
    {
     "data": {
      "image/png": "[encoded data removed]",
      "text/plain": [
       "<Figure size 1000x350 with 1 Axes>"
      ]
     },
     "metadata": {},
     "output_type": "display_data"
    }
   ],
   "source": [
    "# Create a bar chart to chart the correlation between insomnia and Fav genre\n",
    "genre_insomnia_df = music_mental_health_df[[\"Fav genre\", \"Insomnia\"]]\n",
    "fav_genre = genre_insomnia_df.groupby(\"Fav genre\").mean()\n",
    "fav_genre_chart = fav_genre.plot.bar(y='Insomnia', rot=40, width=0.8, figsize=(10,3.5), ylim=(0,10),\n",
    "                                    title='Insomnia by Favorite Genre',\n",
    "                                    yticks=[0,5,10], xlabel='', color='red')"
   ]
  },
  {
   "cell_type": "code",
   "execution_count": 56,
   "metadata": {},
   "outputs": [
    {
     "data": {
      "text/html": [
       "<div>\n",
       "<style scoped>\n",
       "    .dataframe tbody tr th:only-of-type {\n",
       "        vertical-align: middle;\n",
       "    }\n",
       "\n",
       "    .dataframe tbody tr th {\n",
       "        vertical-align: top;\n",
       "    }\n",
       "\n",
       "    .dataframe thead th {\n",
       "        text-align: right;\n",
       "    }\n",
       "</style>\n",
       "<table border=\"1\" class=\"dataframe\">\n",
       "  <thead>\n",
       "    <tr style=\"text-align: right;\">\n",
       "      <th></th>\n",
       "      <th>Depression</th>\n",
       "      <th>BPM</th>\n",
       "      <th>OCD</th>\n",
       "      <th>Anxiety</th>\n",
       "      <th>Insomnia</th>\n",
       "      <th>Age</th>\n",
       "      <th>Hours per day</th>\n",
       "    </tr>\n",
       "  </thead>\n",
       "  <tbody>\n",
       "    <tr>\n",
       "      <th>Depression</th>\n",
       "      <td>1.000000</td>\n",
       "      <td>0.128445</td>\n",
       "      <td>-0.135977</td>\n",
       "      <td>0.317385</td>\n",
       "      <td>0.004526</td>\n",
       "      <td>0.605983</td>\n",
       "      <td>-0.396628</td>\n",
       "    </tr>\n",
       "    <tr>\n",
       "      <th>BPM</th>\n",
       "      <td>0.128445</td>\n",
       "      <td>1.000000</td>\n",
       "      <td>0.838936</td>\n",
       "      <td>0.498297</td>\n",
       "      <td>0.530213</td>\n",
       "      <td>0.111947</td>\n",
       "      <td>0.342493</td>\n",
       "    </tr>\n",
       "    <tr>\n",
       "      <th>OCD</th>\n",
       "      <td>-0.135977</td>\n",
       "      <td>0.838936</td>\n",
       "      <td>1.000000</td>\n",
       "      <td>0.583753</td>\n",
       "      <td>0.273805</td>\n",
       "      <td>-0.068341</td>\n",
       "      <td>0.197853</td>\n",
       "    </tr>\n",
       "    <tr>\n",
       "      <th>Anxiety</th>\n",
       "      <td>0.317385</td>\n",
       "      <td>0.498297</td>\n",
       "      <td>0.583753</td>\n",
       "      <td>1.000000</td>\n",
       "      <td>0.141651</td>\n",
       "      <td>0.439378</td>\n",
       "      <td>-0.132489</td>\n",
       "    </tr>\n",
       "    <tr>\n",
       "      <th>Insomnia</th>\n",
       "      <td>0.004526</td>\n",
       "      <td>0.530213</td>\n",
       "      <td>0.273805</td>\n",
       "      <td>0.141651</td>\n",
       "      <td>1.000000</td>\n",
       "      <td>-0.102015</td>\n",
       "      <td>0.414496</td>\n",
       "    </tr>\n",
       "    <tr>\n",
       "      <th>Age</th>\n",
       "      <td>0.605983</td>\n",
       "      <td>0.111947</td>\n",
       "      <td>-0.068341</td>\n",
       "      <td>0.439378</td>\n",
       "      <td>-0.102015</td>\n",
       "      <td>1.000000</td>\n",
       "      <td>-0.475404</td>\n",
       "    </tr>\n",
       "    <tr>\n",
       "      <th>Hours per day</th>\n",
       "      <td>-0.396628</td>\n",
       "      <td>0.342493</td>\n",
       "      <td>0.197853</td>\n",
       "      <td>-0.132489</td>\n",
       "      <td>0.414496</td>\n",
       "      <td>-0.475404</td>\n",
       "      <td>1.000000</td>\n",
       "    </tr>\n",
       "  </tbody>\n",
       "</table>\n",
       "</div>"
      ],
      "text/plain": [
       "               Depression       BPM       OCD   Anxiety  Insomnia       Age  \\\n",
       "Depression       1.000000  0.128445 -0.135977  0.317385  0.004526  0.605983   \n",
       "BPM              0.128445  1.000000  0.838936  0.498297  0.530213  0.111947   \n",
       "OCD             -0.135977  0.838936  1.000000  0.583753  0.273805 -0.068341   \n",
       "Anxiety          0.317385  0.498297  0.583753  1.000000  0.141651  0.439378   \n",
       "Insomnia         0.004526  0.530213  0.273805  0.141651  1.000000 -0.102015   \n",
       "Age              0.605983  0.111947 -0.068341  0.439378 -0.102015  1.000000   \n",
       "Hours per day   -0.396628  0.342493  0.197853 -0.132489  0.414496 -0.475404   \n",
       "\n",
       "               Hours per day  \n",
       "Depression         -0.396628  \n",
       "BPM                 0.342493  \n",
       "OCD                 0.197853  \n",
       "Anxiety            -0.132489  \n",
       "Insomnia            0.414496  \n",
       "Age                -0.475404  \n",
       "Hours per day       1.000000  "
      ]
     },
     "execution_count": 56,
     "metadata": {},
     "output_type": "execute_result"
    }
   ],
   "source": [
    "df= music_mental_health_df[[\"Fav genre\", \"Depression\",\"BPM\", \"OCD\", \"Anxiety\", \"Insomnia\", \"Age\",\"Hours per day\"]]\n",
    "df_lofi = df[df[\"Fav genre\"]=='Lofi']\n",
    "df_lofi[[\"Depression\",\"BPM\",\"OCD\", \"Anxiety\", \"Insomnia\", \"Age\", \"Hours per day\"]].corr()"
   ]
  },
  {
   "cell_type": "code",
   "execution_count": 57,
   "metadata": {},
   "outputs": [
    {
     "name": "stdout",
     "output_type": "stream",
     "text": [
      "5.6\n"
     ]
    }
   ],
   "source": [
    "# Average insomnia\n",
    "average_insomnia = df_lofi['Insomnia'].mean()\n",
    "print(average_insomnia)"
   ]
  },
  {
   "cell_type": "code",
   "execution_count": 58,
   "metadata": {},
   "outputs": [
    {
     "data": {
      "image/png": "[encoded data removed]",
      "text/plain": [
       "<Figure size 640x480 with 1 Axes>"
      ]
     },
     "metadata": {},
     "output_type": "display_data"
    }
   ],
   "source": [
    "# View graphs on the distribution of the sample data\n",
    "# Insomnia\n",
    "insomnia_dist = df_lofi['Insomnia']\n",
    "freq_ins_counts = insomnia_dist.value_counts()\n",
    "plt.bar(freq_ins_counts.index, freq_ins_counts.values, color='red')\n",
    "plt.xlabel('Insomnia')\n",
    "plt.ylabel('Frequency')\n",
    "plt.title('Frequency of Insomnia')\n",
    "plt.show()\n"
   ]
  },
  {
   "cell_type": "code",
   "execution_count": 97,
   "metadata": {},
   "outputs": [
    {
     "data": {
      "image/png": "[encoded data removed]",
      "text/plain": [
       "<Figure size 800x400 with 1 Axes>"
      ]
     },
     "metadata": {},
     "output_type": "display_data"
    }
   ],
   "source": [
    "# Create a scatter plot to chart the correlation between insomnia and bpm\n",
    "bpm_depression = df_lofi.plot.scatter(x=\"BPM\",y=\"Insomnia\",title=\"Relationship between Insomnia and BPM\", figsize=(8,4),\n",
    "                                           xlabel=\"BPM\",ylabel=\"Insomnia\",color=\"red\",\n",
    "                                          xlim=(0,300),ylim=(0,10),xticks=(0,100,200,300),yticks=())"
   ]
  },
  {
   "cell_type": "code",
   "execution_count": 60,
   "metadata": {},
   "outputs": [
    {
     "data": {
      "text/html": [
       "<div>\n",
       "<style scoped>\n",
       "    .dataframe tbody tr th:only-of-type {\n",
       "        vertical-align: middle;\n",
       "    }\n",
       "\n",
       "    .dataframe tbody tr th {\n",
       "        vertical-align: top;\n",
       "    }\n",
       "\n",
       "    .dataframe thead th {\n",
       "        text-align: right;\n",
       "    }\n",
       "</style>\n",
       "<table border=\"1\" class=\"dataframe\">\n",
       "  <thead>\n",
       "    <tr style=\"text-align: right;\">\n",
       "      <th></th>\n",
       "      <th>Depression</th>\n",
       "      <th>BPM</th>\n",
       "      <th>OCD</th>\n",
       "      <th>Anxiety</th>\n",
       "      <th>Insomnia</th>\n",
       "      <th>Age</th>\n",
       "      <th>Hours per day</th>\n",
       "    </tr>\n",
       "  </thead>\n",
       "  <tbody>\n",
       "    <tr>\n",
       "      <th>Depression</th>\n",
       "      <td>1.000000</td>\n",
       "      <td>0.077799</td>\n",
       "      <td>0.237873</td>\n",
       "      <td>0.553209</td>\n",
       "      <td>0.216461</td>\n",
       "      <td>-0.287373</td>\n",
       "      <td>0.049122</td>\n",
       "    </tr>\n",
       "    <tr>\n",
       "      <th>BPM</th>\n",
       "      <td>0.077799</td>\n",
       "      <td>1.000000</td>\n",
       "      <td>-0.066597</td>\n",
       "      <td>-0.014080</td>\n",
       "      <td>0.068845</td>\n",
       "      <td>0.076268</td>\n",
       "      <td>0.031587</td>\n",
       "    </tr>\n",
       "    <tr>\n",
       "      <th>OCD</th>\n",
       "      <td>0.237873</td>\n",
       "      <td>-0.066597</td>\n",
       "      <td>1.000000</td>\n",
       "      <td>0.309201</td>\n",
       "      <td>0.135856</td>\n",
       "      <td>-0.141621</td>\n",
       "      <td>0.118646</td>\n",
       "    </tr>\n",
       "    <tr>\n",
       "      <th>Anxiety</th>\n",
       "      <td>0.553209</td>\n",
       "      <td>-0.014080</td>\n",
       "      <td>0.309201</td>\n",
       "      <td>1.000000</td>\n",
       "      <td>0.195273</td>\n",
       "      <td>-0.338135</td>\n",
       "      <td>0.042863</td>\n",
       "    </tr>\n",
       "    <tr>\n",
       "      <th>Insomnia</th>\n",
       "      <td>0.216461</td>\n",
       "      <td>0.068845</td>\n",
       "      <td>0.135856</td>\n",
       "      <td>0.195273</td>\n",
       "      <td>1.000000</td>\n",
       "      <td>-0.098764</td>\n",
       "      <td>0.157769</td>\n",
       "    </tr>\n",
       "    <tr>\n",
       "      <th>Age</th>\n",
       "      <td>-0.287373</td>\n",
       "      <td>0.076268</td>\n",
       "      <td>-0.141621</td>\n",
       "      <td>-0.338135</td>\n",
       "      <td>-0.098764</td>\n",
       "      <td>1.000000</td>\n",
       "      <td>-0.097343</td>\n",
       "    </tr>\n",
       "    <tr>\n",
       "      <th>Hours per day</th>\n",
       "      <td>0.049122</td>\n",
       "      <td>0.031587</td>\n",
       "      <td>0.118646</td>\n",
       "      <td>0.042863</td>\n",
       "      <td>0.157769</td>\n",
       "      <td>-0.097343</td>\n",
       "      <td>1.000000</td>\n",
       "    </tr>\n",
       "  </tbody>\n",
       "</table>\n",
       "</div>"
      ],
      "text/plain": [
       "               Depression       BPM       OCD   Anxiety  Insomnia       Age  \\\n",
       "Depression       1.000000  0.077799  0.237873  0.553209  0.216461 -0.287373   \n",
       "BPM              0.077799  1.000000 -0.066597 -0.014080  0.068845  0.076268   \n",
       "OCD              0.237873 -0.066597  1.000000  0.309201  0.135856 -0.141621   \n",
       "Anxiety          0.553209 -0.014080  0.309201  1.000000  0.195273 -0.338135   \n",
       "Insomnia         0.216461  0.068845  0.135856  0.195273  1.000000 -0.098764   \n",
       "Age             -0.287373  0.076268 -0.141621 -0.338135 -0.098764  1.000000   \n",
       "Hours per day    0.049122  0.031587  0.118646  0.042863  0.157769 -0.097343   \n",
       "\n",
       "               Hours per day  \n",
       "Depression          0.049122  \n",
       "BPM                 0.031587  \n",
       "OCD                 0.118646  \n",
       "Anxiety             0.042863  \n",
       "Insomnia            0.157769  \n",
       "Age                -0.097343  \n",
       "Hours per day       1.000000  "
      ]
     },
     "execution_count": 60,
     "metadata": {},
     "output_type": "execute_result"
    }
   ],
   "source": [
    "df= music_mental_health_df[[\"Fav genre\", \"Depression\",\"BPM\", \"OCD\", \"Anxiety\", \"Insomnia\", \"Age\",\"Hours per day\"]]\n",
    "df_rock = df[df[\"Fav genre\"]=='Rock']\n",
    "df_rock[[\"Depression\",\"BPM\",\"OCD\", \"Anxiety\", \"Insomnia\", \"Age\", \"Hours per day\"]].corr()"
   ]
  },
  {
   "cell_type": "code",
   "execution_count": 61,
   "metadata": {},
   "outputs": [
    {
     "name": "stdout",
     "output_type": "stream",
     "text": [
      "3.88031914893617\n"
     ]
    }
   ],
   "source": [
    "# Average insomnia\n",
    "average_insomnia = df_rock['Insomnia'].mean()\n",
    "print(average_insomnia)"
   ]
  },
  {
   "cell_type": "code",
   "execution_count": 70,
   "metadata": {},
   "outputs": [
    {
     "data": {
      "image/png": "[encoded data removed]",
      "text/plain": [
       "<Figure size 640x480 with 1 Axes>"
      ]
     },
     "metadata": {},
     "output_type": "display_data"
    }
   ],
   "source": [
    "# View graphs on the distribution of the sample data\n",
    "# Insomnia\n",
    "insomnia_dist = df_rock['Insomnia']\n",
    "freq_ins_counts = insomnia_dist.value_counts()\n",
    "plt.bar(freq_ins_counts.index, freq_ins_counts.values, color='red')\n",
    "plt.xlabel('Insomnia')\n",
    "plt.ylabel('Frequency')\n",
    "plt.title('Frequency of Insomnia')\n",
    "plt.show()"
   ]
  },
  {
   "cell_type": "code",
   "execution_count": 79,
   "metadata": {},
   "outputs": [
    {
     "data": {
      "image/png": "[encoded data removed]",
      "text/plain": [
       "<Figure size 800x400 with 1 Axes>"
      ]
     },
     "metadata": {},
     "output_type": "display_data"
    }
   ],
   "source": [
    "# Create a scatter plot to chart the correlation between insomnia and bpm\n",
    "bpm_depression = df_rock.plot.scatter(x=\"BPM\",y=\"Insomnia\",title=\"Relationship between Insomnia and BPM\", figsize=(8,4),\n",
    "                                           xlabel=\"BPM\",ylabel=\"Insomnia\",color=\"red\",\n",
    "                                          xlim=(0,300),ylim=(0,10),xticks=(0,100,200,300),yticks=())"
   ]
  },
  {
   "cell_type": "code",
   "execution_count": 64,
   "metadata": {},
   "outputs": [
    {
     "data": {
      "text/html": [
       "<div>\n",
       "<style scoped>\n",
       "    .dataframe tbody tr th:only-of-type {\n",
       "        vertical-align: middle;\n",
       "    }\n",
       "\n",
       "    .dataframe tbody tr th {\n",
       "        vertical-align: top;\n",
       "    }\n",
       "\n",
       "    .dataframe thead th {\n",
       "        text-align: right;\n",
       "    }\n",
       "</style>\n",
       "<table border=\"1\" class=\"dataframe\">\n",
       "  <thead>\n",
       "    <tr style=\"text-align: right;\">\n",
       "      <th></th>\n",
       "      <th>Depression</th>\n",
       "      <th>BPM</th>\n",
       "      <th>OCD</th>\n",
       "      <th>Anxiety</th>\n",
       "      <th>Insomnia</th>\n",
       "      <th>Age</th>\n",
       "      <th>Hours per day</th>\n",
       "    </tr>\n",
       "  </thead>\n",
       "  <tbody>\n",
       "    <tr>\n",
       "      <th>Depression</th>\n",
       "      <td>1.000000</td>\n",
       "      <td>-0.213068</td>\n",
       "      <td>-0.125318</td>\n",
       "      <td>0.380359</td>\n",
       "      <td>0.297092</td>\n",
       "      <td>-0.109053</td>\n",
       "      <td>0.318382</td>\n",
       "    </tr>\n",
       "    <tr>\n",
       "      <th>BPM</th>\n",
       "      <td>-0.213068</td>\n",
       "      <td>1.000000</td>\n",
       "      <td>0.103311</td>\n",
       "      <td>-0.245486</td>\n",
       "      <td>0.132909</td>\n",
       "      <td>0.156195</td>\n",
       "      <td>0.171723</td>\n",
       "    </tr>\n",
       "    <tr>\n",
       "      <th>OCD</th>\n",
       "      <td>-0.125318</td>\n",
       "      <td>0.103311</td>\n",
       "      <td>1.000000</td>\n",
       "      <td>0.178319</td>\n",
       "      <td>-0.026981</td>\n",
       "      <td>0.042174</td>\n",
       "      <td>-0.132651</td>\n",
       "    </tr>\n",
       "    <tr>\n",
       "      <th>Anxiety</th>\n",
       "      <td>0.380359</td>\n",
       "      <td>-0.245486</td>\n",
       "      <td>0.178319</td>\n",
       "      <td>1.000000</td>\n",
       "      <td>-0.004427</td>\n",
       "      <td>-0.197920</td>\n",
       "      <td>-0.032285</td>\n",
       "    </tr>\n",
       "    <tr>\n",
       "      <th>Insomnia</th>\n",
       "      <td>0.297092</td>\n",
       "      <td>0.132909</td>\n",
       "      <td>-0.026981</td>\n",
       "      <td>-0.004427</td>\n",
       "      <td>1.000000</td>\n",
       "      <td>0.261216</td>\n",
       "      <td>0.405875</td>\n",
       "    </tr>\n",
       "    <tr>\n",
       "      <th>Age</th>\n",
       "      <td>-0.109053</td>\n",
       "      <td>0.156195</td>\n",
       "      <td>0.042174</td>\n",
       "      <td>-0.197920</td>\n",
       "      <td>0.261216</td>\n",
       "      <td>1.000000</td>\n",
       "      <td>-0.255038</td>\n",
       "    </tr>\n",
       "    <tr>\n",
       "      <th>Hours per day</th>\n",
       "      <td>0.318382</td>\n",
       "      <td>0.171723</td>\n",
       "      <td>-0.132651</td>\n",
       "      <td>-0.032285</td>\n",
       "      <td>0.405875</td>\n",
       "      <td>-0.255038</td>\n",
       "      <td>1.000000</td>\n",
       "    </tr>\n",
       "  </tbody>\n",
       "</table>\n",
       "</div>"
      ],
      "text/plain": [
       "               Depression       BPM       OCD   Anxiety  Insomnia       Age  \\\n",
       "Depression       1.000000 -0.213068 -0.125318  0.380359  0.297092 -0.109053   \n",
       "BPM             -0.213068  1.000000  0.103311 -0.245486  0.132909  0.156195   \n",
       "OCD             -0.125318  0.103311  1.000000  0.178319 -0.026981  0.042174   \n",
       "Anxiety          0.380359 -0.245486  0.178319  1.000000 -0.004427 -0.197920   \n",
       "Insomnia         0.297092  0.132909 -0.026981 -0.004427  1.000000  0.261216   \n",
       "Age             -0.109053  0.156195  0.042174 -0.197920  0.261216  1.000000   \n",
       "Hours per day    0.318382  0.171723 -0.132651 -0.032285  0.405875 -0.255038   \n",
       "\n",
       "               Hours per day  \n",
       "Depression          0.318382  \n",
       "BPM                 0.171723  \n",
       "OCD                -0.132651  \n",
       "Anxiety            -0.032285  \n",
       "Insomnia            0.405875  \n",
       "Age                -0.255038  \n",
       "Hours per day       1.000000  "
      ]
     },
     "execution_count": 64,
     "metadata": {},
     "output_type": "execute_result"
    }
   ],
   "source": [
    "df= music_mental_health_df[[\"Fav genre\", \"Depression\",\"BPM\", \"OCD\", \"Anxiety\", \"Insomnia\", \"Age\",\"Hours per day\"]]\n",
    "df_hiphop = df[df[\"Fav genre\"]=='Hip hop']\n",
    "df_hiphop[[\"Depression\",\"BPM\",\"OCD\", \"Anxiety\", \"Insomnia\", \"Age\", \"Hours per day\"]].corr()"
   ]
  },
  {
   "cell_type": "code",
   "execution_count": 65,
   "metadata": {},
   "outputs": [
    {
     "name": "stdout",
     "output_type": "stream",
     "text": [
      "3.4285714285714284\n"
     ]
    }
   ],
   "source": [
    "# Average insomnia\n",
    "average_insomnia = df_hiphop['Insomnia'].mean()\n",
    "print(average_insomnia)"
   ]
  },
  {
   "cell_type": "code",
   "execution_count": 71,
   "metadata": {},
   "outputs": [
    {
     "data": {
      "image/png": "[encoded data removed]",
      "text/plain": [
       "<Figure size 640x480 with 1 Axes>"
      ]
     },
     "metadata": {},
     "output_type": "display_data"
    }
   ],
   "source": [
    "# View graphs on the distribution of the sample data\n",
    "# Insomnia\n",
    "insomnia_dist = df_hiphop['Insomnia']\n",
    "freq_ins_counts = insomnia_dist.value_counts()\n",
    "plt.bar(freq_ins_counts.index, freq_ins_counts.values, color='red')\n",
    "plt.xlabel('Insomnia')\n",
    "plt.ylabel('Frequency')\n",
    "plt.title('Frequency of Insomnia')\n",
    "plt.show()"
   ]
  },
  {
   "cell_type": "code",
   "execution_count": 98,
   "metadata": {},
   "outputs": [
    {
     "data": {
      "image/png": "[encoded data removed]",
      "text/plain": [
       "<Figure size 800x400 with 1 Axes>"
      ]
     },
     "metadata": {},
     "output_type": "display_data"
    }
   ],
   "source": [
    "# Create a scatter plot to chart the correlation between insomnia and bpm\n",
    "bpm_depression = df_hiphop.plot.scatter(x=\"BPM\",y=\"Insomnia\",title=\"Relationship between Insomnia and BPM\", figsize=(8,4),\n",
    "                                           xlabel=\"BPM\",ylabel=\"Insomnia\",color=\"red\",\n",
    "                                          xlim=(0,300),ylim=(0,10),xticks=(0,100,200,300),yticks=())"
   ]
  }
 ],
 "metadata": {
  "kernelspec": {
   "display_name": "base",
   "language": "python",
   "name": "python3"
  },
  "language_info": {
   "codemirror_mode": {
    "name": "ipython",
    "version": 3
   },
   "file_extension": ".py",
   "mimetype": "text/x-python",
   "name": "python",
   "nbconvert_exporter": "python",
   "pygments_lexer": "ipython3",
   "version": "3.10.13"
  }
 },
 "nbformat": 4,
 "nbformat_minor": 2
}
