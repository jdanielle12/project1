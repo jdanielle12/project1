{
 "cells": [
  {
   "cell_type": "code",
   "execution_count": 81,
   "metadata": {},
   "outputs": [],
   "source": [
    "# Import the required libraries and dependencies\n",
    "import pandas as pd\n",
    "import sklearn.datasets as dta\n",
    "import scipy.stats as st\n",
    "import matplotlib.pyplot as plt\n",
    "\n"
   ]
  },
  {
   "cell_type": "code",
   "execution_count": 82,
   "metadata": {},
   "outputs": [
    {
     "data": {
      "text/html": [
       "<div>\n",
       "<style scoped>\n",
       "    .dataframe tbody tr th:only-of-type {\n",
       "        vertical-align: middle;\n",
       "    }\n",
       "\n",
       "    .dataframe tbody tr th {\n",
       "        vertical-align: top;\n",
       "    }\n",
       "\n",
       "    .dataframe thead th {\n",
       "        text-align: right;\n",
       "    }\n",
       "</style>\n",
       "<table border=\"1\" class=\"dataframe\">\n",
       "  <thead>\n",
       "    <tr style=\"text-align: right;\">\n",
       "      <th></th>\n",
       "      <th>Age</th>\n",
       "      <th>Primary streaming service</th>\n",
       "      <th>Hours per day</th>\n",
       "      <th>While working</th>\n",
       "      <th>Instrumentalist</th>\n",
       "      <th>Composer</th>\n",
       "      <th>Fav genre</th>\n",
       "      <th>Exploratory</th>\n",
       "      <th>Foreign languages</th>\n",
       "      <th>BPM</th>\n",
       "      <th>...</th>\n",
       "      <th>Frequency [R&amp;B]</th>\n",
       "      <th>Frequency [Rap]</th>\n",
       "      <th>Frequency [Rock]</th>\n",
       "      <th>Frequency [Video game music]</th>\n",
       "      <th>Anxiety</th>\n",
       "      <th>Depression</th>\n",
       "      <th>Insomnia</th>\n",
       "      <th>OCD</th>\n",
       "      <th>Music effects</th>\n",
       "      <th>Permissions</th>\n",
       "    </tr>\n",
       "  </thead>\n",
       "  <tbody>\n",
       "    <tr>\n",
       "      <th>2</th>\n",
       "      <td>18.0</td>\n",
       "      <td>Spotify</td>\n",
       "      <td>4.0</td>\n",
       "      <td>No</td>\n",
       "      <td>No</td>\n",
       "      <td>No</td>\n",
       "      <td>Video game music</td>\n",
       "      <td>No</td>\n",
       "      <td>Yes</td>\n",
       "      <td>132.0</td>\n",
       "      <td>...</td>\n",
       "      <td>Never</td>\n",
       "      <td>Rarely</td>\n",
       "      <td>Rarely</td>\n",
       "      <td>Very frequently</td>\n",
       "      <td>7.0</td>\n",
       "      <td>7.0</td>\n",
       "      <td>10.0</td>\n",
       "      <td>2.0</td>\n",
       "      <td>No effect</td>\n",
       "      <td>I understand.</td>\n",
       "    </tr>\n",
       "    <tr>\n",
       "      <th>3</th>\n",
       "      <td>61.0</td>\n",
       "      <td>YouTube Music</td>\n",
       "      <td>2.5</td>\n",
       "      <td>Yes</td>\n",
       "      <td>No</td>\n",
       "      <td>Yes</td>\n",
       "      <td>Jazz</td>\n",
       "      <td>Yes</td>\n",
       "      <td>Yes</td>\n",
       "      <td>84.0</td>\n",
       "      <td>...</td>\n",
       "      <td>Sometimes</td>\n",
       "      <td>Never</td>\n",
       "      <td>Never</td>\n",
       "      <td>Never</td>\n",
       "      <td>9.0</td>\n",
       "      <td>7.0</td>\n",
       "      <td>3.0</td>\n",
       "      <td>3.0</td>\n",
       "      <td>Improve</td>\n",
       "      <td>I understand.</td>\n",
       "    </tr>\n",
       "    <tr>\n",
       "      <th>4</th>\n",
       "      <td>18.0</td>\n",
       "      <td>Spotify</td>\n",
       "      <td>4.0</td>\n",
       "      <td>Yes</td>\n",
       "      <td>No</td>\n",
       "      <td>No</td>\n",
       "      <td>R&amp;B</td>\n",
       "      <td>Yes</td>\n",
       "      <td>No</td>\n",
       "      <td>107.0</td>\n",
       "      <td>...</td>\n",
       "      <td>Very frequently</td>\n",
       "      <td>Very frequently</td>\n",
       "      <td>Never</td>\n",
       "      <td>Rarely</td>\n",
       "      <td>7.0</td>\n",
       "      <td>2.0</td>\n",
       "      <td>5.0</td>\n",
       "      <td>9.0</td>\n",
       "      <td>Improve</td>\n",
       "      <td>I understand.</td>\n",
       "    </tr>\n",
       "    <tr>\n",
       "      <th>5</th>\n",
       "      <td>18.0</td>\n",
       "      <td>Spotify</td>\n",
       "      <td>5.0</td>\n",
       "      <td>Yes</td>\n",
       "      <td>Yes</td>\n",
       "      <td>Yes</td>\n",
       "      <td>Jazz</td>\n",
       "      <td>Yes</td>\n",
       "      <td>Yes</td>\n",
       "      <td>86.0</td>\n",
       "      <td>...</td>\n",
       "      <td>Very frequently</td>\n",
       "      <td>Very frequently</td>\n",
       "      <td>Very frequently</td>\n",
       "      <td>Never</td>\n",
       "      <td>8.0</td>\n",
       "      <td>8.0</td>\n",
       "      <td>7.0</td>\n",
       "      <td>7.0</td>\n",
       "      <td>Improve</td>\n",
       "      <td>I understand.</td>\n",
       "    </tr>\n",
       "    <tr>\n",
       "      <th>6</th>\n",
       "      <td>18.0</td>\n",
       "      <td>YouTube Music</td>\n",
       "      <td>3.0</td>\n",
       "      <td>Yes</td>\n",
       "      <td>Yes</td>\n",
       "      <td>No</td>\n",
       "      <td>Video game music</td>\n",
       "      <td>Yes</td>\n",
       "      <td>Yes</td>\n",
       "      <td>66.0</td>\n",
       "      <td>...</td>\n",
       "      <td>Rarely</td>\n",
       "      <td>Never</td>\n",
       "      <td>Never</td>\n",
       "      <td>Sometimes</td>\n",
       "      <td>4.0</td>\n",
       "      <td>8.0</td>\n",
       "      <td>6.0</td>\n",
       "      <td>0.0</td>\n",
       "      <td>Improve</td>\n",
       "      <td>I understand.</td>\n",
       "    </tr>\n",
       "  </tbody>\n",
       "</table>\n",
       "<p>5 rows × 32 columns</p>\n",
       "</div>"
      ],
      "text/plain": [
       "    Age Primary streaming service  Hours per day While working  \\\n",
       "2  18.0                   Spotify            4.0            No   \n",
       "3  61.0             YouTube Music            2.5           Yes   \n",
       "4  18.0                   Spotify            4.0           Yes   \n",
       "5  18.0                   Spotify            5.0           Yes   \n",
       "6  18.0             YouTube Music            3.0           Yes   \n",
       "\n",
       "  Instrumentalist Composer         Fav genre Exploratory Foreign languages  \\\n",
       "2              No       No  Video game music          No               Yes   \n",
       "3              No      Yes              Jazz         Yes               Yes   \n",
       "4              No       No               R&B         Yes                No   \n",
       "5             Yes      Yes              Jazz         Yes               Yes   \n",
       "6             Yes       No  Video game music         Yes               Yes   \n",
       "\n",
       "     BPM  ...  Frequency [R&B]  Frequency [Rap] Frequency [Rock]  \\\n",
       "2  132.0  ...            Never           Rarely           Rarely   \n",
       "3   84.0  ...        Sometimes            Never            Never   \n",
       "4  107.0  ...  Very frequently  Very frequently            Never   \n",
       "5   86.0  ...  Very frequently  Very frequently  Very frequently   \n",
       "6   66.0  ...           Rarely            Never            Never   \n",
       "\n",
       "  Frequency [Video game music] Anxiety Depression Insomnia  OCD Music effects  \\\n",
       "2              Very frequently     7.0        7.0     10.0  2.0     No effect   \n",
       "3                        Never     9.0        7.0      3.0  3.0       Improve   \n",
       "4                       Rarely     7.0        2.0      5.0  9.0       Improve   \n",
       "5                        Never     8.0        8.0      7.0  7.0       Improve   \n",
       "6                    Sometimes     4.0        8.0      6.0  0.0       Improve   \n",
       "\n",
       "     Permissions  \n",
       "2  I understand.  \n",
       "3  I understand.  \n",
       "4  I understand.  \n",
       "5  I understand.  \n",
       "6  I understand.  \n",
       "\n",
       "[5 rows x 32 columns]"
      ]
     },
     "execution_count": 82,
     "metadata": {},
     "output_type": "execute_result"
    }
   ],
   "source": [
    "# Read the data from the csv into a Pandas DataFrame with the first column as row index\n",
    "music_mental_health_df = pd.read_csv(\"Resources/mxmh_survey_results.csv\")\n",
    "\n",
    "#Drop timestamp column\n",
    "music_mental_health_df = music_mental_health_df.drop(columns=[\"Timestamp\"])\n",
    "\n",
    "#dropping all null and NaN values\n",
    "music_mental_health_df = music_mental_health_df.dropna()\n",
    "\n",
    "\n",
    "# Review the DataFrame\n",
    "music_mental_health_df.head()"
   ]
  },
  {
   "cell_type": "code",
   "execution_count": 83,
   "metadata": {},
   "outputs": [
    {
     "data": {
      "text/plain": [
       "Age                             float64\n",
       "Primary streaming service        object\n",
       "Hours per day                   float64\n",
       "While working                    object\n",
       "Instrumentalist                  object\n",
       "Composer                         object\n",
       "Fav genre                        object\n",
       "Exploratory                      object\n",
       "Foreign languages                object\n",
       "BPM                             float64\n",
       "Frequency [Classical]            object\n",
       "Frequency [Country]              object\n",
       "Frequency [EDM]                  object\n",
       "Frequency [Folk]                 object\n",
       "Frequency [Gospel]               object\n",
       "Frequency [Hip hop]              object\n",
       "Frequency [Jazz]                 object\n",
       "Frequency [K pop]                object\n",
       "Frequency [Latin]                object\n",
       "Frequency [Lofi]                 object\n",
       "Frequency [Metal]                object\n",
       "Frequency [Pop]                  object\n",
       "Frequency [R&B]                  object\n",
       "Frequency [Rap]                  object\n",
       "Frequency [Rock]                 object\n",
       "Frequency [Video game music]     object\n",
       "Anxiety                         float64\n",
       "Depression                      float64\n",
       "Insomnia                        float64\n",
       "OCD                             float64\n",
       "Music effects                    object\n",
       "Permissions                      object\n",
       "dtype: object"
      ]
     },
     "execution_count": 83,
     "metadata": {},
     "output_type": "execute_result"
    }
   ],
   "source": [
    "#read data types\n",
    "music_mental_health_df.dtypes"
   ]
  },
  {
   "cell_type": "code",
   "execution_count": 84,
   "metadata": {},
   "outputs": [
    {
     "data": {
      "image/png": "[encoded data removed]",
      "text/plain": [
       "<Figure size 1000x350 with 1 Axes>"
      ]
     },
     "metadata": {},
     "output_type": "display_data"
    }
   ],
   "source": [
    "# Create a bar chart to chart the correlation between Anxiety and Fav genre\n",
    "genre_anxiety_df = music_mental_health_df[[\"Fav genre\", \"Anxiety\"]]\n",
    "fav_genre = genre_anxiety_df.groupby(\"Fav genre\").mean()\n",
    "fav_genre_chart = fav_genre.plot.bar(y='Anxiety', rot=40, width=0.8, figsize=(10,3.5), ylim=(0,10),\n",
    "                                    title='Anxiety by Favorite Genre',\n",
    "                                    yticks=[0,5,10], xlabel='', color='gold')"
   ]
  },
  {
   "cell_type": "code",
   "execution_count": 85,
   "metadata": {},
   "outputs": [
    {
     "data": {
      "text/html": [
       "<div>\n",
       "<style scoped>\n",
       "    .dataframe tbody tr th:only-of-type {\n",
       "        vertical-align: middle;\n",
       "    }\n",
       "\n",
       "    .dataframe tbody tr th {\n",
       "        vertical-align: top;\n",
       "    }\n",
       "\n",
       "    .dataframe thead th {\n",
       "        text-align: right;\n",
       "    }\n",
       "</style>\n",
       "<table border=\"1\" class=\"dataframe\">\n",
       "  <thead>\n",
       "    <tr style=\"text-align: right;\">\n",
       "      <th></th>\n",
       "      <th>Depression</th>\n",
       "      <th>BPM</th>\n",
       "      <th>OCD</th>\n",
       "      <th>Anxiety</th>\n",
       "      <th>Insomnia</th>\n",
       "      <th>Age</th>\n",
       "      <th>Hours per day</th>\n",
       "    </tr>\n",
       "  </thead>\n",
       "  <tbody>\n",
       "    <tr>\n",
       "      <th>Depression</th>\n",
       "      <td>1.000000</td>\n",
       "      <td>0.128445</td>\n",
       "      <td>-0.135977</td>\n",
       "      <td>0.317385</td>\n",
       "      <td>0.004526</td>\n",
       "      <td>0.605983</td>\n",
       "      <td>-0.396628</td>\n",
       "    </tr>\n",
       "    <tr>\n",
       "      <th>BPM</th>\n",
       "      <td>0.128445</td>\n",
       "      <td>1.000000</td>\n",
       "      <td>0.838936</td>\n",
       "      <td>0.498297</td>\n",
       "      <td>0.530213</td>\n",
       "      <td>0.111947</td>\n",
       "      <td>0.342493</td>\n",
       "    </tr>\n",
       "    <tr>\n",
       "      <th>OCD</th>\n",
       "      <td>-0.135977</td>\n",
       "      <td>0.838936</td>\n",
       "      <td>1.000000</td>\n",
       "      <td>0.583753</td>\n",
       "      <td>0.273805</td>\n",
       "      <td>-0.068341</td>\n",
       "      <td>0.197853</td>\n",
       "    </tr>\n",
       "    <tr>\n",
       "      <th>Anxiety</th>\n",
       "      <td>0.317385</td>\n",
       "      <td>0.498297</td>\n",
       "      <td>0.583753</td>\n",
       "      <td>1.000000</td>\n",
       "      <td>0.141651</td>\n",
       "      <td>0.439378</td>\n",
       "      <td>-0.132489</td>\n",
       "    </tr>\n",
       "    <tr>\n",
       "      <th>Insomnia</th>\n",
       "      <td>0.004526</td>\n",
       "      <td>0.530213</td>\n",
       "      <td>0.273805</td>\n",
       "      <td>0.141651</td>\n",
       "      <td>1.000000</td>\n",
       "      <td>-0.102015</td>\n",
       "      <td>0.414496</td>\n",
       "    </tr>\n",
       "    <tr>\n",
       "      <th>Age</th>\n",
       "      <td>0.605983</td>\n",
       "      <td>0.111947</td>\n",
       "      <td>-0.068341</td>\n",
       "      <td>0.439378</td>\n",
       "      <td>-0.102015</td>\n",
       "      <td>1.000000</td>\n",
       "      <td>-0.475404</td>\n",
       "    </tr>\n",
       "    <tr>\n",
       "      <th>Hours per day</th>\n",
       "      <td>-0.396628</td>\n",
       "      <td>0.342493</td>\n",
       "      <td>0.197853</td>\n",
       "      <td>-0.132489</td>\n",
       "      <td>0.414496</td>\n",
       "      <td>-0.475404</td>\n",
       "      <td>1.000000</td>\n",
       "    </tr>\n",
       "  </tbody>\n",
       "</table>\n",
       "</div>"
      ],
      "text/plain": [
       "               Depression       BPM       OCD   Anxiety  Insomnia       Age  \\\n",
       "Depression       1.000000  0.128445 -0.135977  0.317385  0.004526  0.605983   \n",
       "BPM              0.128445  1.000000  0.838936  0.498297  0.530213  0.111947   \n",
       "OCD             -0.135977  0.838936  1.000000  0.583753  0.273805 -0.068341   \n",
       "Anxiety          0.317385  0.498297  0.583753  1.000000  0.141651  0.439378   \n",
       "Insomnia         0.004526  0.530213  0.273805  0.141651  1.000000 -0.102015   \n",
       "Age              0.605983  0.111947 -0.068341  0.439378 -0.102015  1.000000   \n",
       "Hours per day   -0.396628  0.342493  0.197853 -0.132489  0.414496 -0.475404   \n",
       "\n",
       "               Hours per day  \n",
       "Depression         -0.396628  \n",
       "BPM                 0.342493  \n",
       "OCD                 0.197853  \n",
       "Anxiety            -0.132489  \n",
       "Insomnia            0.414496  \n",
       "Age                -0.475404  \n",
       "Hours per day       1.000000  "
      ]
     },
     "execution_count": 85,
     "metadata": {},
     "output_type": "execute_result"
    }
   ],
   "source": [
    "df= music_mental_health_df[[\"Fav genre\", \"Depression\",\"BPM\", \"OCD\", \"Anxiety\", \"Insomnia\", \"Age\",\"Hours per day\"]]\n",
    "df_lofi = df[df[\"Fav genre\"]=='Lofi']\n",
    "df_lofi[[\"Depression\",\"BPM\",\"OCD\", \"Anxiety\", \"Insomnia\", \"Age\", \"Hours per day\"]].corr()"
   ]
  },
  {
   "cell_type": "code",
   "execution_count": 86,
   "metadata": {},
   "outputs": [
    {
     "name": "stdout",
     "output_type": "stream",
     "text": [
      "6.1\n"
     ]
    }
   ],
   "source": [
    "average_anxiety = df_lofi['Anxiety'].mean()\n",
    "print(average_anxiety)"
   ]
  },
  {
   "cell_type": "code",
   "execution_count": 87,
   "metadata": {},
   "outputs": [
    {
     "data": {
      "image/png": "[encoded data removed]",
      "text/plain": [
       "<Figure size 640x480 with 1 Axes>"
      ]
     },
     "metadata": {},
     "output_type": "display_data"
    }
   ],
   "source": [
    "# View graphs on the distribution of the sample data\n",
    "# Anxiety\n",
    "anxiety_dist = df_lofi['Anxiety']\n",
    "freq_anx_counts = anxiety_dist.value_counts()\n",
    "plt.bar(freq_anx_counts.index, freq_anx_counts.values, color=\"gold\")\n",
    "plt.xlabel('Anxiety')\n",
    "plt.ylabel('Frequency')\n",
    "plt.title('Frequency of Anxiety')\n",
    "plt.show()"
   ]
  },
  {
   "cell_type": "code",
   "execution_count": 88,
   "metadata": {},
   "outputs": [
    {
     "data": {
      "image/png": "[encoded data removed]",
      "text/plain": [
       "<Figure size 800x400 with 1 Axes>"
      ]
     },
     "metadata": {},
     "output_type": "display_data"
    }
   ],
   "source": [
    "# Create a scatterplot to chart the correlation between anxiety and bpm\n",
    "bpm_anxiety = df_lofi.plot.scatter(x=\"BPM\",y=\"Anxiety\",title=\"Relationship between Anxiety and BPM\", figsize=(8,4),\n",
    "                                           xlabel=\"BPM\",ylabel=\"Anxiety\",color=\"gold\",\n",
    "                                          xlim=(0,300),ylim=(0,10),xticks=(0,100,200,300),yticks=())"
   ]
  },
  {
   "cell_type": "code",
   "execution_count": 89,
   "metadata": {},
   "outputs": [
    {
     "data": {
      "text/html": [
       "<div>\n",
       "<style scoped>\n",
       "    .dataframe tbody tr th:only-of-type {\n",
       "        vertical-align: middle;\n",
       "    }\n",
       "\n",
       "    .dataframe tbody tr th {\n",
       "        vertical-align: top;\n",
       "    }\n",
       "\n",
       "    .dataframe thead th {\n",
       "        text-align: right;\n",
       "    }\n",
       "</style>\n",
       "<table border=\"1\" class=\"dataframe\">\n",
       "  <thead>\n",
       "    <tr style=\"text-align: right;\">\n",
       "      <th></th>\n",
       "      <th>Depression</th>\n",
       "      <th>BPM</th>\n",
       "      <th>OCD</th>\n",
       "      <th>Anxiety</th>\n",
       "      <th>Insomnia</th>\n",
       "      <th>Age</th>\n",
       "      <th>Hours per day</th>\n",
       "    </tr>\n",
       "  </thead>\n",
       "  <tbody>\n",
       "    <tr>\n",
       "      <th>Depression</th>\n",
       "      <td>1.000000</td>\n",
       "      <td>-0.213068</td>\n",
       "      <td>-0.101752</td>\n",
       "      <td>0.370190</td>\n",
       "      <td>0.213998</td>\n",
       "      <td>-0.145123</td>\n",
       "      <td>0.383677</td>\n",
       "    </tr>\n",
       "    <tr>\n",
       "      <th>BPM</th>\n",
       "      <td>-0.213068</td>\n",
       "      <td>1.000000</td>\n",
       "      <td>0.103311</td>\n",
       "      <td>-0.245486</td>\n",
       "      <td>0.132909</td>\n",
       "      <td>0.156195</td>\n",
       "      <td>0.171723</td>\n",
       "    </tr>\n",
       "    <tr>\n",
       "      <th>OCD</th>\n",
       "      <td>-0.101752</td>\n",
       "      <td>0.103311</td>\n",
       "      <td>1.000000</td>\n",
       "      <td>0.103909</td>\n",
       "      <td>-0.025674</td>\n",
       "      <td>0.058400</td>\n",
       "      <td>-0.164018</td>\n",
       "    </tr>\n",
       "    <tr>\n",
       "      <th>Anxiety</th>\n",
       "      <td>0.370190</td>\n",
       "      <td>-0.245486</td>\n",
       "      <td>0.103909</td>\n",
       "      <td>1.000000</td>\n",
       "      <td>-0.082725</td>\n",
       "      <td>-0.220458</td>\n",
       "      <td>-0.022629</td>\n",
       "    </tr>\n",
       "    <tr>\n",
       "      <th>Insomnia</th>\n",
       "      <td>0.213998</td>\n",
       "      <td>0.132909</td>\n",
       "      <td>-0.025674</td>\n",
       "      <td>-0.082725</td>\n",
       "      <td>1.000000</td>\n",
       "      <td>0.260482</td>\n",
       "      <td>0.445824</td>\n",
       "    </tr>\n",
       "    <tr>\n",
       "      <th>Age</th>\n",
       "      <td>-0.145123</td>\n",
       "      <td>0.156195</td>\n",
       "      <td>0.058400</td>\n",
       "      <td>-0.220458</td>\n",
       "      <td>0.260482</td>\n",
       "      <td>1.000000</td>\n",
       "      <td>-0.233077</td>\n",
       "    </tr>\n",
       "    <tr>\n",
       "      <th>Hours per day</th>\n",
       "      <td>0.383677</td>\n",
       "      <td>0.171723</td>\n",
       "      <td>-0.164018</td>\n",
       "      <td>-0.022629</td>\n",
       "      <td>0.445824</td>\n",
       "      <td>-0.233077</td>\n",
       "      <td>1.000000</td>\n",
       "    </tr>\n",
       "  </tbody>\n",
       "</table>\n",
       "</div>"
      ],
      "text/plain": [
       "               Depression       BPM       OCD   Anxiety  Insomnia       Age  \\\n",
       "Depression       1.000000 -0.213068 -0.101752  0.370190  0.213998 -0.145123   \n",
       "BPM             -0.213068  1.000000  0.103311 -0.245486  0.132909  0.156195   \n",
       "OCD             -0.101752  0.103311  1.000000  0.103909 -0.025674  0.058400   \n",
       "Anxiety          0.370190 -0.245486  0.103909  1.000000 -0.082725 -0.220458   \n",
       "Insomnia         0.213998  0.132909 -0.025674 -0.082725  1.000000  0.260482   \n",
       "Age             -0.145123  0.156195  0.058400 -0.220458  0.260482  1.000000   \n",
       "Hours per day    0.383677  0.171723 -0.164018 -0.022629  0.445824 -0.233077   \n",
       "\n",
       "               Hours per day  \n",
       "Depression          0.383677  \n",
       "BPM                 0.171723  \n",
       "OCD                -0.164018  \n",
       "Anxiety            -0.022629  \n",
       "Insomnia            0.445824  \n",
       "Age                -0.233077  \n",
       "Hours per day       1.000000  "
      ]
     },
     "execution_count": 89,
     "metadata": {},
     "output_type": "execute_result"
    }
   ],
   "source": [
    "df= music_mental_health_df[[\"Fav genre\", \"Depression\",\"BPM\", \"OCD\", \"Anxiety\", \"Insomnia\", \"Age\",\"Hours per day\"]]\n",
    "df_hiphop = df[df[\"Fav genre\"]=='Hip hop']\n",
    "df_hiphop[[\"Depression\",\"BPM\",\"OCD\", \"Anxiety\", \"Insomnia\", \"Age\", \"Hours per day\"]].corr()"
   ]
  },
  {
   "cell_type": "code",
   "execution_count": 90,
   "metadata": {},
   "outputs": [
    {
     "name": "stdout",
     "output_type": "stream",
     "text": [
      "6.3125\n"
     ]
    }
   ],
   "source": [
    "average_anxiety = df_hiphop['Anxiety'].mean()\n",
    "print(average_anxiety)"
   ]
  },
  {
   "cell_type": "code",
   "execution_count": 91,
   "metadata": {},
   "outputs": [
    {
     "data": {
      "image/png": "[encoded data removed]",
      "text/plain": [
       "<Figure size 640x480 with 1 Axes>"
      ]
     },
     "metadata": {},
     "output_type": "display_data"
    }
   ],
   "source": [
    "# View graphs on the distribution of the sample data\n",
    "# Anxiety\n",
    "anxiety_dist = df_hiphop['Anxiety']\n",
    "freq_anx_counts = anxiety_dist.value_counts()\n",
    "plt.bar(freq_anx_counts.index, freq_anx_counts.values, color=\"gold\")\n",
    "plt.xlabel('Anxiety')\n",
    "plt.ylabel('Frequency')\n",
    "plt.title('Frequency of Anxiety')\n",
    "plt.show()"
   ]
  },
  {
   "cell_type": "code",
   "execution_count": 92,
   "metadata": {},
   "outputs": [
    {
     "data": {
      "image/png": "[encoded data removed]",
      "text/plain": [
       "<Figure size 800x400 with 1 Axes>"
      ]
     },
     "metadata": {},
     "output_type": "display_data"
    }
   ],
   "source": [
    "# Create a scatterplot to chart the correlation between anxiety and bpm\n",
    "bpm_anxiety = df_hiphop.plot.scatter(x=\"BPM\",y=\"Anxiety\",title=\"Relationship between Anxiety and BPM\", figsize=(8,4),\n",
    "                                           xlabel=\"BPM\",ylabel=\"Anxiety\",color=\"gold\",\n",
    "                                          xlim=(0,300),ylim=(0,10),xticks=(0,100,200,300),yticks=())"
   ]
  },
  {
   "cell_type": "code",
   "execution_count": 93,
   "metadata": {},
   "outputs": [
    {
     "data": {
      "text/html": [
       "<div>\n",
       "<style scoped>\n",
       "    .dataframe tbody tr th:only-of-type {\n",
       "        vertical-align: middle;\n",
       "    }\n",
       "\n",
       "    .dataframe tbody tr th {\n",
       "        vertical-align: top;\n",
       "    }\n",
       "\n",
       "    .dataframe thead th {\n",
       "        text-align: right;\n",
       "    }\n",
       "</style>\n",
       "<table border=\"1\" class=\"dataframe\">\n",
       "  <thead>\n",
       "    <tr style=\"text-align: right;\">\n",
       "      <th></th>\n",
       "      <th>Depression</th>\n",
       "      <th>BPM</th>\n",
       "      <th>OCD</th>\n",
       "      <th>Anxiety</th>\n",
       "      <th>Insomnia</th>\n",
       "      <th>Age</th>\n",
       "      <th>Hours per day</th>\n",
       "    </tr>\n",
       "  </thead>\n",
       "  <tbody>\n",
       "    <tr>\n",
       "      <th>Depression</th>\n",
       "      <td>1.000000</td>\n",
       "      <td>0.078411</td>\n",
       "      <td>0.157144</td>\n",
       "      <td>0.589361</td>\n",
       "      <td>0.172273</td>\n",
       "      <td>-0.252970</td>\n",
       "      <td>-0.000346</td>\n",
       "    </tr>\n",
       "    <tr>\n",
       "      <th>BPM</th>\n",
       "      <td>0.078411</td>\n",
       "      <td>1.000000</td>\n",
       "      <td>-0.065952</td>\n",
       "      <td>-0.012530</td>\n",
       "      <td>0.067676</td>\n",
       "      <td>0.082998</td>\n",
       "      <td>0.031289</td>\n",
       "    </tr>\n",
       "    <tr>\n",
       "      <th>OCD</th>\n",
       "      <td>0.157144</td>\n",
       "      <td>-0.065952</td>\n",
       "      <td>1.000000</td>\n",
       "      <td>0.288805</td>\n",
       "      <td>0.109940</td>\n",
       "      <td>-0.121107</td>\n",
       "      <td>0.104889</td>\n",
       "    </tr>\n",
       "    <tr>\n",
       "      <th>Anxiety</th>\n",
       "      <td>0.589361</td>\n",
       "      <td>-0.012530</td>\n",
       "      <td>0.288805</td>\n",
       "      <td>1.000000</td>\n",
       "      <td>0.180522</td>\n",
       "      <td>-0.364729</td>\n",
       "      <td>0.036752</td>\n",
       "    </tr>\n",
       "    <tr>\n",
       "      <th>Insomnia</th>\n",
       "      <td>0.172273</td>\n",
       "      <td>0.067676</td>\n",
       "      <td>0.109940</td>\n",
       "      <td>0.180522</td>\n",
       "      <td>1.000000</td>\n",
       "      <td>-0.076783</td>\n",
       "      <td>0.127961</td>\n",
       "    </tr>\n",
       "    <tr>\n",
       "      <th>Age</th>\n",
       "      <td>-0.252970</td>\n",
       "      <td>0.082998</td>\n",
       "      <td>-0.121107</td>\n",
       "      <td>-0.364729</td>\n",
       "      <td>-0.076783</td>\n",
       "      <td>1.000000</td>\n",
       "      <td>-0.095655</td>\n",
       "    </tr>\n",
       "    <tr>\n",
       "      <th>Hours per day</th>\n",
       "      <td>-0.000346</td>\n",
       "      <td>0.031289</td>\n",
       "      <td>0.104889</td>\n",
       "      <td>0.036752</td>\n",
       "      <td>0.127961</td>\n",
       "      <td>-0.095655</td>\n",
       "      <td>1.000000</td>\n",
       "    </tr>\n",
       "  </tbody>\n",
       "</table>\n",
       "</div>"
      ],
      "text/plain": [
       "               Depression       BPM       OCD   Anxiety  Insomnia       Age  \\\n",
       "Depression       1.000000  0.078411  0.157144  0.589361  0.172273 -0.252970   \n",
       "BPM              0.078411  1.000000 -0.065952 -0.012530  0.067676  0.082998   \n",
       "OCD              0.157144 -0.065952  1.000000  0.288805  0.109940 -0.121107   \n",
       "Anxiety          0.589361 -0.012530  0.288805  1.000000  0.180522 -0.364729   \n",
       "Insomnia         0.172273  0.067676  0.109940  0.180522  1.000000 -0.076783   \n",
       "Age             -0.252970  0.082998 -0.121107 -0.364729 -0.076783  1.000000   \n",
       "Hours per day   -0.000346  0.031289  0.104889  0.036752  0.127961 -0.095655   \n",
       "\n",
       "               Hours per day  \n",
       "Depression         -0.000346  \n",
       "BPM                 0.031289  \n",
       "OCD                 0.104889  \n",
       "Anxiety             0.036752  \n",
       "Insomnia            0.127961  \n",
       "Age                -0.095655  \n",
       "Hours per day       1.000000  "
      ]
     },
     "execution_count": 93,
     "metadata": {},
     "output_type": "execute_result"
    }
   ],
   "source": [
    "df= music_mental_health_df[[\"Fav genre\", \"Depression\",\"BPM\", \"OCD\", \"Anxiety\", \"Insomnia\", \"Age\", \"Hours per day\"]]\n",
    "df_rock = df[df[\"Fav genre\"]=='Rock']\n",
    "df_rock[[\"Depression\",\"BPM\",\"OCD\", \"Anxiety\", \"Insomnia\", \"Age\", \"Hours per day\"]].corr()"
   ]
  },
  {
   "cell_type": "code",
   "execution_count": 94,
   "metadata": {},
   "outputs": [
    {
     "name": "stdout",
     "output_type": "stream",
     "text": [
      "6.134228187919463\n"
     ]
    }
   ],
   "source": [
    "average_anxiety = df_rock['Anxiety'].mean()\n",
    "print(average_anxiety)"
   ]
  },
  {
   "cell_type": "code",
   "execution_count": 95,
   "metadata": {},
   "outputs": [
    {
     "data": {
      "image/png": "[encoded data removed]",
      "text/plain": [
       "<Figure size 640x480 with 1 Axes>"
      ]
     },
     "metadata": {},
     "output_type": "display_data"
    }
   ],
   "source": [
    "# View graphs on the distribution of the sample data\n",
    "# Anxiety\n",
    "anxiety_dist = df_rock['Anxiety']\n",
    "freq_anx_counts = anxiety_dist.value_counts()\n",
    "plt.bar(freq_anx_counts.index, freq_anx_counts.values, color=\"gold\")\n",
    "plt.xlabel('Anxiety')\n",
    "plt.ylabel('Frequency')\n",
    "plt.title('Frequency of Anxiety')\n",
    "plt.show()"
   ]
  },
  {
   "cell_type": "code",
   "execution_count": 96,
   "metadata": {},
   "outputs": [
    {
     "data": {
      "image/png": "[encoded data removed]",
      "text/plain": [
       "<Figure size 800x400 with 1 Axes>"
      ]
     },
     "metadata": {},
     "output_type": "display_data"
    }
   ],
   "source": [
    "# Create a scatterplot to chart the correlation between anxiety and bpm\n",
    "bpm_anxiety = df_rock.plot.scatter(x=\"BPM\",y=\"Anxiety\",title=\"Relationship between Anxiety and BPM\", figsize=(8,4),\n",
    "                                           xlabel=\"BPM\",ylabel=\"Anxiety\",color=\"gold\",\n",
    "                                          xlim=(0,300),ylim=(0,10),xticks=(0,100,200,300),yticks=())"
   ]
  }
 ],
 "metadata": {
  "kernelspec": {
   "display_name": "base",
   "language": "python",
   "name": "python3"
  },
  "language_info": {
   "codemirror_mode": {
    "name": "ipython",
    "version": 3
   },
   "file_extension": ".py",
   "mimetype": "text/x-python",
   "name": "python",
   "nbconvert_exporter": "python",
   "pygments_lexer": "ipython3",
   "version": "3.10.13"
  }
 },
 "nbformat": 4,
 "nbformat_minor": 2
}
